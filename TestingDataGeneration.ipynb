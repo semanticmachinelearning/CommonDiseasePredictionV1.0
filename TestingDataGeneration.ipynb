{
 "cells": [
  {
   "cell_type": "code",
   "execution_count": 210,
   "metadata": {},
   "outputs": [],
   "source": [
    "import rdflib\n",
    "from rdflib import Graph, Literal, BNode, Namespace, RDF, URIRef\n",
    "from rdflib.namespace import DC, FOAF\n",
    "import spotlight\n",
    "import urllib, json\n",
    "import pandas as pd\n",
    "from collections import Counter"
   ]
  },
  {
   "cell_type": "code",
   "execution_count": 211,
   "metadata": {},
   "outputs": [],
   "source": [
    "# load the graph\n",
    "g = rdflib.Graph()\n",
    "result = g.parse('kgraph215.ttl', format='turtle')\n",
    "\n",
    "# setting self-namespaces \n",
    "cn = Namespace(\"http://ai.symptomchecking.org/condtion/\")\n",
    "dbpn = \"http://dbpedia.org/resource/\"\n",
    "symptomOf = URIRef(cn.symptomOf)\n",
    "linksTo = URIRef(cn.linkTo)\n",
    "signOf = URIRef(cn.signOf)\n",
    "anatomicOn = URIRef(cn.anatomicOn)\n",
    "drug = URIRef(cn.drugTo)\n",
    "\n",
    "# define useful classes\n",
    "disease = URIRef('http://dbpedia.org/ontology/Disease')\n",
    "drug = URIRef('http://dbpedia.org/ontology/Drug')\n",
    "symp = URIRef('http://dbpedia.org/resource/Category:Symptoms_and_signs')\n",
    "anat = URIRef('http://dbpedia.org/ontology/AnatomicalStructure')"
   ]
  },
  {
   "cell_type": "code",
   "execution_count": 212,
   "metadata": {},
   "outputs": [],
   "source": [
    "def getting_age_gender(agv,q):\n",
    "    my_df = pd.DataFrame()\n",
    "    s=[]\n",
    "    s0 = [' Baby',' Boy ', ' Boys ',' Girl',' Girls','Children',' Child','Infant','Teenager','Youngster','Youth', 'childhood']\n",
    "    s1 = [' Over 60 years old','Elderly']\n",
    "    s2 = ['Middle age']\n",
    "    s3 = [' Man ',' Men ',' Boy ',' Males ']\n",
    "    s4 = [' Woman ',' Women ', 'Than males', 'Than men', 'Women are affected', 'Females are affected', 'Most often in females', 'and females', 'infected female', 'infected females', 'females', 'female', 'girl', 'girls', 'pregnancy', 'Pregnancy']\n",
    "    if q == 0:\n",
    "        my_df = pd.DataFrame(columns=['Disease','AgeGroup'])\n",
    "        if agv==0:\n",
    "            agv = 'young'\n",
    "            s=s0\n",
    "        elif agv==1:\n",
    "            agv = 'old'\n",
    "            s=s1\n",
    "        else:\n",
    "            s=s2\n",
    "            agv = 'Middle age'\n",
    "    if q == 1:\n",
    "        my_df = pd.DataFrame(columns=['Disease','Gender'])\n",
    "        if agv==0:\n",
    "            agv = 'Male'\n",
    "            s=s3\n",
    "        else:\n",
    "            agv = 'Female'\n",
    "            s=s4\n",
    "    j=0\n",
    "    querystring = \"SELECT DISTINCT ?d WHERE {\"\n",
    "    for xqi in s:\n",
    "        if (j<len(s)-1):\n",
    "            querystring = querystring + \"{\\\n",
    "            ?d <http://purl.org/dc/elements/1.1/abstract> ?a . FILTER regex(str(?a), '\"+xqi+\"')} UNION {\\\n",
    "            ?d <http://purl.org/dc/elements/1.1/abstract> ?a . FILTER regex(str(?a), '\"+xqi.lower()+\"')} UNION\"\n",
    "        else:\n",
    "            querystring = querystring + \"{\\\n",
    "            ?d <http://purl.org/dc/elements/1.1/abstract> ?a . FILTER regex(str(?a), '\"+xqi+\"')} UNION {\\\n",
    "            ?d <http://purl.org/dc/elements/1.1/abstract> ?a . FILTER regex(str(?a), '\"+xqi.lower()+\"')}\"\n",
    "        j=j+1\n",
    "    querystring = querystring + \"}\"\n",
    "    #print (querystring)\n",
    "    qres = g.query(querystring)\n",
    "    i=0\n",
    "    for row in qres:\n",
    "        d = str(row.asdict()['d'].toPython())\n",
    "        my_df.loc[i] = [d,agv]\n",
    "        i=i+1\n",
    "    return my_df"
   ]
  },
  {
   "cell_type": "code",
   "execution_count": 213,
   "metadata": {},
   "outputs": [],
   "source": [
    "def getting_position():\n",
    "    my_df = pd.DataFrame(columns=['Disease', 'Position'])\n",
    "    querystring = \"SELECT DISTINCT ?d ?a WHERE {\"\n",
    "    querystring = querystring + \"?d <\"+anatomicOn+\"> ?a .}\"\n",
    "    #print querystring\n",
    "    qres = g.query(querystring)\n",
    "    i=0\n",
    "    for row in qres:\n",
    "        d = str(row.asdict()['d'].toPython())\n",
    "        a = str(row.asdict()['a'].toPython())\n",
    "        my_df.loc[i] = [d,a]\n",
    "        i=i+1\n",
    "    my_df = my_df.groupby('Disease').agg({'Position': ', '.join}).reset_index()\n",
    "    return my_df"
   ]
  },
  {
   "cell_type": "code",
   "execution_count": 214,
   "metadata": {},
   "outputs": [],
   "source": [
    "def getting_sym_dis():\n",
    "    my_df = pd.DataFrame(columns=['Disease', 'Symptom'])\n",
    "    querystring = \"SELECT DISTINCT ?d ?s WHERE {\"\n",
    "    querystring =  querystring+\"{?s <\"+signOf+\"> ?d} UNION {?s <\"+symptomOf+\"> ?d} .}\"\n",
    "    #print querystring\n",
    "    qres = g.query(querystring)\n",
    "    i=0\n",
    "    for row in qres:\n",
    "        d = str(row.asdict()['d'].toPython())\n",
    "        s = str(row.asdict()['s'].toPython())\n",
    "        my_df.loc[i] = [d,s]\n",
    "        i=i+1\n",
    "    my_df = my_df.groupby('Disease').agg({'Symptom': ', '.join}).reset_index()\n",
    "\n",
    "            # me_df = pd.merge(me_df, my_df, on=['Disease'])\n",
    "    return my_df"
   ]
  },
  {
   "cell_type": "markdown",
   "metadata": {},
   "source": [
    "# generation age parameters"
   ]
  },
  {
   "cell_type": "code",
   "execution_count": 215,
   "metadata": {},
   "outputs": [],
   "source": [
    "age0_gender_0_df = getting_age_gender(0,0)"
   ]
  },
  {
   "cell_type": "code",
   "execution_count": 216,
   "metadata": {},
   "outputs": [],
   "source": [
    "age1_gender_0_df = getting_age_gender(1,0)"
   ]
  },
  {
   "cell_type": "code",
   "execution_count": 217,
   "metadata": {},
   "outputs": [],
   "source": [
    "age2_gender_0_df = getting_age_gender(2,0)"
   ]
  },
  {
   "cell_type": "code",
   "execution_count": 218,
   "metadata": {},
   "outputs": [],
   "source": [
    "age_merge = pd.concat([age0_gender_0_df, age1_gender_0_df, age2_gender_0_df])"
   ]
  },
  {
   "cell_type": "code",
   "execution_count": 219,
   "metadata": {},
   "outputs": [],
   "source": [
    "age_merge = age_merge.groupby('Disease').agg({'AgeGroup': ', '.join}).reset_index()"
   ]
  },
  {
   "cell_type": "code",
   "execution_count": 220,
   "metadata": {},
   "outputs": [],
   "source": [
    "age_merge.to_csv(\"ageTestP.csv\", encoding='utf-8')"
   ]
  },
  {
   "cell_type": "markdown",
   "metadata": {},
   "source": [
    "# Age generation end"
   ]
  },
  {
   "cell_type": "markdown",
   "metadata": {},
   "source": [
    "# Position and symptom parameter generation "
   ]
  },
  {
   "cell_type": "code",
   "execution_count": 221,
   "metadata": {},
   "outputs": [],
   "source": [
    "redf = pd.merge(getting_sym_dis(), getting_position(), on='Disease')"
   ]
  },
  {
   "cell_type": "code",
   "execution_count": 222,
   "metadata": {},
   "outputs": [],
   "source": [
    "redf.to_csv(\"symPosTestP.csv\", encoding='utf-8')"
   ]
  },
  {
   "cell_type": "markdown",
   "metadata": {},
   "source": [
    "# Position and symptom generation end "
   ]
  },
  {
   "cell_type": "code",
   "execution_count": 223,
   "metadata": {},
   "outputs": [],
   "source": [
    "male_df = getting_age_gender(0,1)"
   ]
  },
  {
   "cell_type": "code",
   "execution_count": 224,
   "metadata": {},
   "outputs": [],
   "source": [
    "female_df = getting_age_gender(1,1)"
   ]
  },
  {
   "cell_type": "code",
   "execution_count": 225,
   "metadata": {},
   "outputs": [],
   "source": [
    "gender_merge = pd.concat([male_df, female_df])"
   ]
  },
  {
   "cell_type": "code",
   "execution_count": 226,
   "metadata": {},
   "outputs": [],
   "source": [
    "gender_merge = gender_merge.groupby('Disease').agg({'Gender': ', '.join}).reset_index()"
   ]
  },
  {
   "cell_type": "code",
   "execution_count": 227,
   "metadata": {},
   "outputs": [],
   "source": [
    "gender_merge.to_csv(\"genderTestP.csv\", encoding='utf-8')"
   ]
  },
  {
   "cell_type": "code",
   "execution_count": 228,
   "metadata": {},
   "outputs": [
    {
     "data": {
      "text/plain": [
       "'http://ai.symptomchecking.org/condtion/Abdominal_aortic_aneurysm'"
      ]
     },
     "execution_count": 228,
     "metadata": {},
     "output_type": "execute_result"
    }
   ],
   "source": [
    "redf.iloc[0]['Disease']"
   ]
  },
  {
   "cell_type": "code",
   "execution_count": 229,
   "metadata": {},
   "outputs": [
    {
     "name": "stdout",
     "output_type": "stream",
     "text": [
      "                                             Disease        Gender\n",
      "0  http://ai.symptomchecking.org/condtion/Abdomin...  Male, Female\n"
     ]
    }
   ],
   "source": [
    "print (gender_merge[gender_merge['Disease']==redf.iloc[0]['Disease']])"
   ]
  },
  {
   "cell_type": "code",
   "execution_count": 162,
   "metadata": {},
   "outputs": [],
   "source": [
    "p_df = pd.DataFrame(columns=['Disease', 'Symptom','Position', 'Age', 'Gen'])\n",
    "for i in range (0,len(redf)):\n",
    "    ck = redf.iloc[i]['Disease']\n",
    "    cp = redf.iloc[i]['Position']\n",
    "    sp = redf.iloc[i]['Symptom']\n",
    "    ge = 'any'\n",
    "    ag = 'any'\n",
    "    for j in range (0, len(gender_merge)):\n",
    "        if gender_merge.iloc[j]['Disease']==ck:\n",
    "            ge = gender_merge.iloc[j]['Gender']\n",
    "            if len(ge.split(','))>1:\n",
    "                ge = 'any'\n",
    "    for k in range (0, len(age_merge)):\n",
    "        if age_merge.iloc[k]['Disease']==ck:\n",
    "            ag = age_merge.iloc[k]['AgeGroup']\n",
    "    p_df.loc[i] = [ck, sp, cp, ag, ge]"
   ]
  },
  {
   "cell_type": "code",
   "execution_count": 164,
   "metadata": {},
   "outputs": [
    {
     "data": {
      "text/plain": [
       "184"
      ]
     },
     "execution_count": 164,
     "metadata": {},
     "output_type": "execute_result"
    }
   ],
   "source": [
    "len(p_df)"
   ]
  },
  {
   "cell_type": "code",
   "execution_count": 230,
   "metadata": {},
   "outputs": [],
   "source": [
    "p_df.to_csv(\"testSeeds.csv\", encoding='utf-8')"
   ]
  },
  {
   "cell_type": "code",
   "execution_count": 231,
   "metadata": {},
   "outputs": [],
   "source": [
    "test_df = pd.DataFrame(columns=['Disease', 'Symptom','Position', 'Age', 'Gen'])"
   ]
  },
  {
   "cell_type": "code",
   "execution_count": 232,
   "metadata": {},
   "outputs": [],
   "source": [
    "import random"
   ]
  },
  {
   "cell_type": "code",
   "execution_count": 233,
   "metadata": {},
   "outputs": [],
   "source": [
    "ndp = ['Fever','Cough','Headache','Infection','Dizzy','Breath','Sick', 'Temperature','Tiredness','Vomiting']\n",
    "for i in range (0,len(p_df)):\n",
    "    ck = p_df.iloc[i]['Disease']\n",
    "    cp = p_df.iloc[i]['Position']\n",
    "    if len(cp.split(','))>3:\n",
    "        rnb = random.randint(1,len(cp.split(','))-2)\n",
    "        cp = cp.split(',')[0:rnb]\n",
    "    sp = p_df.iloc[i]['Symptom']\n",
    "    rnd = random.randint(0,5)\n",
    "    sp = sp + ndp[rnd] \n",
    "    rnd = random.randint(5,9)\n",
    "    sp = sp + ndp[rnd]  \n",
    "    if len(sp.split(','))>5:\n",
    "        rnb = random.randint(2,len(sp.split(','))-3)\n",
    "        sp = sp.split(',')[0:rnb]\n",
    "    ap = p_df.iloc[i]['Age']\n",
    "    if ap == 'any':\n",
    "        foo = ['Yong','Elder','Middel age']\n",
    "        ap = random.choice(foo)\n",
    "    gp = p_df.iloc[i]['Gen']\n",
    "    if gp == 'any':\n",
    "        foo = ['male','female']\n",
    "        gp = random.choice(foo)\n",
    "    test_df.loc[i] = [ck, sp, cp, ap, gp]   "
   ]
  },
  {
   "cell_type": "code",
   "execution_count": 234,
   "metadata": {},
   "outputs": [
    {
     "data": {
      "text/plain": [
       "'any'"
      ]
     },
     "execution_count": 234,
     "metadata": {},
     "output_type": "execute_result"
    }
   ],
   "source": [
    "p_df.iloc[0]['Gen']"
   ]
  },
  {
   "cell_type": "code",
   "execution_count": 235,
   "metadata": {},
   "outputs": [],
   "source": [
    "test_df.to_csv(\"testdata1.csv\", encoding='utf-8')"
   ]
  },
  {
   "cell_type": "code",
   "execution_count": null,
   "metadata": {},
   "outputs": [],
   "source": []
  }
 ],
 "metadata": {
  "kernelspec": {
   "display_name": "Python 2",
   "language": "python",
   "name": "python2"
  },
  "language_info": {
   "codemirror_mode": {
    "name": "ipython",
    "version": 2
   },
   "file_extension": ".py",
   "mimetype": "text/x-python",
   "name": "python",
   "nbconvert_exporter": "python",
   "pygments_lexer": "ipython2",
   "version": "2.7.15"
  }
 },
 "nbformat": 4,
 "nbformat_minor": 2
}
